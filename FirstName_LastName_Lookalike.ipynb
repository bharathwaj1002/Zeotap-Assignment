{
  "nbformat": 4,
  "nbformat_minor": 0,
  "metadata": {
    "colab": {
      "provenance": []
    },
    "kernelspec": {
      "name": "python3",
      "display_name": "Python 3"
    },
    "language_info": {
      "name": "python"
    }
  },
  "cells": [
    {
      "cell_type": "markdown",
      "source": [
        "FirstName_LastName_Lookalike"
      ],
      "metadata": {
        "id": "Bur2HQG32QNL"
      }
    },
    {
      "cell_type": "code",
      "execution_count": 2,
      "metadata": {
        "id": "RIm_FxrX2EBE"
      },
      "outputs": [],
      "source": [
        "# Import necessary libraries for Lookalike Model\n",
        "from sklearn.metrics.pairwise import cosine_similarity\n",
        "import numpy as np\n",
        "import pandas as pd\n",
        "import requests\n",
        "import io\n",
        "\n",
        "# Function to download CSV from Google Drive 'view' link\n",
        "def download_csv_from_google_drive(url):\n",
        "    \"\"\"Downloads a CSV file from a Google Drive 'view' link.\n",
        "\n",
        "    Args:\n",
        "        url (str): The Google Drive 'view' link.\n",
        "\n",
        "    Returns:\n",
        "        str: The content of the CSV file.\n",
        "    \"\"\"\n",
        "    # Get the file ID from the URL\n",
        "    file_id = url.split('/')[-2]\n",
        "    download_url = f'https://drive.google.com/uc?export=download&id={file_id}'\n",
        "    response = requests.get(download_url)\n",
        "\n",
        "    # If there's a confirmation required, handle it:\n",
        "    if 'confirm' in response.text:\n",
        "        confirm_code = response.text.split('confirm=')[1].split('&')[0]\n",
        "        download_url = f'https://drive.google.com/uc?export=download&id={file_id}&confirm={confirm_code}'\n",
        "        response = requests.get(download_url)\n",
        "\n",
        "    return response.content.decode('utf-8')\n",
        "\n",
        "\n",
        "# Load the data\n",
        "customers_csv_data = download_csv_from_google_drive('https://drive.google.com/file/d/1bu_--mo79VdUG9oin4ybfFGRUSXAe-WE/view')\n",
        "customers_df = pd.read_csv(io.StringIO(customers_csv_data))\n",
        "\n",
        "prodcuts_csv_data = download_csv_from_google_drive('https://drive.google.com/file/d/1IKuDizVapw-hyktwfpoAoaGtHtTNHfd0/view')\n",
        "products_df = pd.read_csv(io.StringIO(prodcuts_csv_data))\n",
        "\n",
        "\n",
        "transactions_csv_data = download_csv_from_google_drive('https://drive.google.com/file/d/1saEqdbBB-vuk2hxoAf4TzDEsykdKlzbF/view')\n",
        "transactions_df = pd.read_csv(io.StringIO(transactions_csv_data))\n",
        "\n",
        "# Get product purchase data from transactions\n",
        "merged_df = pd.merge(transactions_df, customers_df, on='CustomerID')\n",
        "purchase_data = merged_df.pivot_table(index='CustomerID', columns='ProductID', values='Quantity', aggfunc='sum', fill_value=0)\n",
        "\n",
        "# Calculate Cosine Similarity between customers based on product purchases\n",
        "similarity_matrix = cosine_similarity(purchase_data)\n",
        "\n",
        "# Get top 3 similar customers for each of the first 20 customers\n",
        "lookalike_data = []\n",
        "\n",
        "for customer_id in purchase_data.index[:20]:  # First 20 customers\n",
        "    customer_idx = purchase_data.index.get_loc(customer_id)\n",
        "    similarities = similarity_matrix[customer_idx]\n",
        "\n",
        "    # Get the top 3 most similar customers\n",
        "    similar_customer_indices = similarities.argsort()[-4:-1]  # Skip self by excluding the first one\n",
        "    similar_customers = purchase_data.index[similar_customer_indices]\n",
        "    similarity_scores = similarities[similar_customer_indices]\n",
        "\n",
        "    # Store results\n",
        "    lookalike_data.append({\n",
        "        'CustomerID': customer_id,\n",
        "        'Lookalike1': similar_customers[0], 'Score1': similarity_scores[0],\n",
        "        'Lookalike2': similar_customers[1], 'Score2': similarity_scores[1],\n",
        "        'Lookalike3': similar_customers[2], 'Score3': similarity_scores[2],\n",
        "    })\n",
        "\n",
        "# Create DataFrame and save as CSV\n",
        "lookalike_df = pd.DataFrame(lookalike_data)\n",
        "lookalike_df.to_csv(\"FirstName_LastName_Lookalike.csv\", index=False)"
      ]
    }
  ]
}